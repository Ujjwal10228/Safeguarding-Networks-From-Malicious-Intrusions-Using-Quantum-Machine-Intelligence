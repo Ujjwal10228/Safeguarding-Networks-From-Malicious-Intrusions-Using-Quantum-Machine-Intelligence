{
  "cells": [
    {
      "cell_type": "code",
      "execution_count": null,
      "metadata": {
        "id": "-HRi3vTtb4pJ"
      },
      "outputs": [],
      "source": [
        "import numpy as np\n",
        "import pandas as pd\n",
        "import random\n",
        "from sklearn.svm import SVC\n",
        "from sklearn.model_selection import train_test_split\n",
        "from sklearn.preprocessing import MinMaxScaler\n",
        "from sklearn.metrics import accuracy_score\n",
        "from sklearn.datasets import load_breast_cancer\n",
        
      ]
    },
    {
      "cell_type": "code",
      "execution_count": null,
      "metadata": {
        "id": "Soy-WzfMjIX7"
      },
      "outputs": [],
      "source": [
        "\n",
        "def initialize_population(n_agents, n_features):\n",
        "    qubits = []\n",
        "    for _ in range(n_agents):\n",
        "        agent = np.ones((n_features, 2)) / np.sqrt(2)\n",
        "        qubits.append(agent)\n",
        "    return qubits\n",
        "\n",
        "def observe(agent):\n",
        "    binary = []\n",
        "    for alpha, beta in agent:\n",
        "        r = random.random()\n",
        "        binary.append(1 if r < beta**2 else 0)\n",
        "    return np.array(binary)\n",
        "\n",
        "def fitness(solution, X, y):\n",
        "    selected = np.where(solution == 1)[0]\n",
        "    if len(selected) == 0:\n",
        "        return 0\n",
        "    X_new = X[:, selected]\n",
        "    X_train, X_test, y_train, y_test = train_test_split(X_new, y, test_size=0.3, random_state=42)\n",
        "    clf = SVC(kernel='rbf')\n",
        "    clf.fit(X_train, y_train)\n",
        "    preds = clf.predict(X_test)\n",
        "    return accuracy_score(y_test, preds)\n",
        "\n",
        "def update_qubits(qubits, best_solution, theta=0.01*np.pi):\n",
        "    updated_qubits = []\n",
        "    for agent in qubits:\n",
        "        new_agent = []\n",
        "        for i, (alpha, beta) in enumerate(agent):\n",
        "            best_bit = best_solution[i]\n",
        "            direction = 1 if best_bit == 1 else -1\n",
        "            angle = direction * theta\n",
        "            alpha_new = alpha * np.cos(angle) - beta * np.sin(angle)\n",
        "            beta_new = alpha * np.sin(angle) + beta * np.cos(angle)\n",
        "            norm = np.sqrt(alpha_new**2 + beta_new**2)\n",
        "            new_agent.append([alpha_new/norm, beta_new/norm])\n",
        "        updated_qubits.append(np.array(new_agent))\n",
        "    return updated_qubits\n",
        "\n",
        "def mutation(population, F=0.5):\n",
        "    n = len(population)\n",
        "    mutants = []\n",
        "    for i in range(n):\n",
        "        idxs = list(range(n))\n",
        "        idxs.remove(i)\n",
        "        r1, r2, r3 = random.sample(idxs, 3)\n",
        "        mutant = population[r1] + F * (population[r2] - population[r3])\n",
        "        mutant = np.clip(mutant, 0, 1)\n",
        "        mutants.append(mutant)\n",
        "    return mutants\n",
        "\n",
        "def crossover(pop, mutants, Cr=0.7):\n",
        "    offspring = []\n",
        "    for x, v in zip(pop, mutants):\n",
        "        cross = np.array([v_i if random.random() < Cr else x_i for x_i, v_i in zip(x, v)])\n",
        "        offspring.append(cross)\n",
        "    return offspring\n",
        "\n",
        "def selection(current_pop, trial_pop, X, y):\n",
        "    new_pop = []\n",
        "    for x, u in zip(current_pop, trial_pop):\n",
        "        fit_x = fitness(x, X, y)\n",
        "        fit_u = fitness(u, X, y)\n",
        "        new_pop.append(u if fit_u >= fit_x else x)\n",
        "    return new_pop\n"
      ]
    },
    {
      "cell_type": "code",
      "execution_count": null,
      "metadata": {
        "id": "KsIjdFr_jLEh"
      },
      "outputs": [],
      "source": [
        "\n",
        "def QMGOA_DE(X, y, n_agents=30, n_iter=30, theta=0.01*np.pi, k=3):\n",
        "    n_features = X.shape[1]\n",
        "    qubits = initialize_population(n_agents, n_features)\n",
        "    best_solution = None\n",
        "    best_fitness = -1\n",
        "\n",
        "    for it in range(n_iter):\n",
        "        binary_population = [observe(q) for q in qubits]\n",
        "        fitness_vals = [fitness(sol, X, y) for sol in binary_population]\n",
        "\n",
        "        max_idx = np.argmax(fitness_vals)\n",
        "        if fitness_vals[max_idx] > best_fitness:\n",
        "            best_fitness = fitness_vals[max_idx]\n",
        "            best_solution = binary_population[max_idx]\n",
        "\n",
        "        subpop_size = n_agents // k\n",
        "        subpops = [qubits[i*subpop_size:(i+1)*subpop_size] for i in range(k)]\n",
        "\n",
        "        updated_subpops = []\n",
        "        for sub in subpops:\n",
        "            observed = [observe(q) for q in sub]\n",
        "            fits = [fitness(sol, X, y) for sol in observed]\n",
        "            best_idx = np.argmax(fits)\n",
        "            sub_best = observed[best_idx]\n",
        "            updated = update_qubits(sub, sub_best, theta)\n",
        "            updated_subpops.extend(updated)\n",
        "\n",
        "        qubits = updated_subpops\n",
        "\n",
        "        binary_population = [observe(q) for q in qubits]\n",
        "        mutants = mutation(np.array(binary_population))\n",
        "        crossed = crossover(np.array(binary_population), np.array(mutants))\n",
        "        binary_population = selection(binary_population, crossed, X, y)\n",
        "\n",
        "        print(f\"Iteration {it+1}/{n_iter} - Best Accuracy: {best_fitness:.4f}\")\n",
        "\n",
        "    return best_solution, best_fitness\n"
      ]
    },
    {
      "cell_type": "code",
      "execution_count": null,
      "metadata": {
        "id": "Wgy-UFnUel5D"
      },
      "outputs": [],
      "source": [
        "df = pd.read_csv(\"/content/UNSW_NB15_training-set(in).csv\", engine='python')"
      ]
    },
    {
      "cell_type": "code",
      "execution_count": null,
      "metadata": {
        "id": "F6ZziPZLeq0m"
      },
      "outputs": [],
      "source": [
        "from sklearn.utils import resample\n",
        "\n",
        "df_majority = df[df['label']==1]\n",
        "df_minority = df[df['label']==0]\n",
        "\n",
        "df_majority_downsampled = resample(df_majority, replace=False, n_samples = len(df_minority), random_state=42)\n",
        "\n",
        "df = pd.concat([df_majority_downsampled, df_minority])"
      ]
    },
    {
      "cell_type": "code",
      "execution_count": null,
      "metadata": {
        "id": "hcLD1guFexxA"
      },
      "outputs": [],
      "source": [
        "# One-hot encode 'service' and 'state'\n",
        "df_encoded = pd.get_dummies(df, columns=['service', 'state'], drop_first=True)\n",
        "\n",
        "# Frequency encode 'proto'\n",
        "proto_freq = df['proto'].value_counts(normalize=True)\n",
        "df_encoded['proto_freq'] = df['proto'].map(proto_freq)\n",
        "\n",
        "# Drop original 'proto' column\n",
        "df_encoded.drop(columns=['proto', 'attack_cat'], inplace=True)\n"
      ]
    },
    {
      "cell_type": "code",
      "execution_count": null,
      "metadata": {
        "colab": {
          "base_uri": "https://localhost:8080/"
        },
        "id": "IUUjYMD1hf0y",
        "outputId": "7d890175-745c-4e1c-edfd-4ea75f717e97"
      },
      "outputs": [
        {
          "data": {
            "text/plain": [
              "Index(['id', 'dur', 'spkts', 'dpkts', 'sbytes', 'dbytes', 'rate', 'sttl',\n",
              "       'dttl', 'sload', 'dload', 'sloss', 'dloss', 'sinpkt', 'dinpkt', 'sjit',\n",
              "       'djit', 'swin', 'stcpb', 'dtcpb', 'dwin', 'tcprtt', 'synack', 'ackdat',\n",
              "       'smean', 'dmean', 'trans_depth', 'response_body_len', 'ct_srv_src',\n",
              "       'ct_state_ttl', 'ct_dst_ltm', 'ct_src_dport_ltm', 'ct_dst_sport_ltm',\n",
              "       'ct_dst_src_ltm', 'is_ftp_login', 'ct_ftp_cmd', 'ct_flw_http_mthd',\n",
              "       'ct_src_ltm', 'ct_srv_dst', 'is_sm_ips_ports', 'label', 'service_dhcp',\n",
              "       'service_dns', 'service_ftp', 'service_ftp-data', 'service_http',\n",
              "       'service_irc', 'service_pop3', 'service_radius', 'service_smtp',\n",
              "       'service_snmp', 'service_ssh', 'service_ssl', 'state_ECO', 'state_FIN',\n",
              "       'state_INT', 'state_PAR', 'state_REQ', 'state_RST', 'state_URN',\n",
              "       'state_no', 'proto_freq'],\n",
              "      dtype='object')"
            ]
          },
          "execution_count": 7,
          "metadata": {},
          "output_type": "execute_result"
        }
      ],
      "source": [
        "df_encoded.columns.transpose()"
      ]
    },
    {
      "cell_type": "code",
      "execution_count": null,
      "metadata": {
        "colab": {
          "base_uri": "https://localhost:8080/"
        },
        "id": "umTgLTnThyi1",
        "outputId": "e1ac2fb1-4180-4dab-ca4b-e15a24f0068c"
      },
      "outputs": [
        {
          "data": {
            "text/plain": [
              "(112000, 62)"
            ]
          },
          "execution_count": 8,
          "metadata": {},
          "output_type": "execute_result"
        }
      ],
      "source": [
        "df_encoded.shape"
      ]
    },
    {
      "cell_type": "code",
      "execution_count": null,
      "metadata": {
        "id": "hKUhHIUWcn12"
      },
      "outputs": [],
      "source": [
        "from sklearn.model_selection import train_test_split\n",
        "\n",
        "df_encoded, _ = train_test_split(\n",
        "    df_encoded,\n",
        "    train_size=1000,\n",
        "    stratify=df['label'],  # ensures class ratio is preserved\n",
        "    random_state=42\n",
        ")\n"
      ]
    },
    {
      "cell_type": "code",
      "execution_count": null,
      "metadata": {
        "colab": {
          "base_uri": "https://localhost:8080/"
        },
        "id": "2zOG4bOCiBcp",
        "outputId": "cf189853-8cd6-4d7f-e685-59106e40d7a5"
      },
      "outputs": [
        {
          "data": {
            "text/plain": [
              "(1000, 62)"
            ]
          },
          "execution_count": 10,
          "metadata": {},
          "output_type": "execute_result"
        }
      ],
      "source": [
        "df_encoded.shape"
      ]
    },
    {
      "cell_type": "code",
      "execution_count": null,
      "metadata": {
        "id": "OHTMeOeRiD-i"
      },
      "outputs": [],
      "source": [
        "from sklearn.preprocessing import StandardScaler\n",
        "\n",
        "X = df_encoded.drop(columns=['label'])\n",
        "y = df_encoded['label']\n",
        "\n",
        "scaler = StandardScaler()\n",
        "X_scaled = scaler.fit_transform(X)\n",
        "\n",
        "feature_names = X.columns"
      ]
    },
    {
      "cell_type": "code",
      "execution_count": null,
      "metadata": {
        "colab": {
          "base_uri": "https://localhost:8080/"
        },
        "id": "Wlm22Ufwiw6Y",
        "outputId": "69aab48d-3c9f-4bc5-e648-f918b5ba0919"
      },
      "outputs": [
        {
          "name": "stdout",
          "output_type": "stream",
          "text": [
            "Iteration 1/20 - Best Accuracy: 0.9533\n",
            "Iteration 2/20 - Best Accuracy: 0.9533\n",
            "Iteration 3/20 - Best Accuracy: 0.9533\n",
            "Iteration 4/20 - Best Accuracy: 0.9567\n",
            "Iteration 5/20 - Best Accuracy: 0.9567\n",
            "Iteration 6/20 - Best Accuracy: 0.9567\n",
            "Iteration 7/20 - Best Accuracy: 0.9600\n",
            "Iteration 8/20 - Best Accuracy: 0.9600\n",
            "Iteration 9/20 - Best Accuracy: 0.9600\n",
            "Iteration 10/20 - Best Accuracy: 0.9600\n",
            "Iteration 11/20 - Best Accuracy: 0.9600\n",
            "Iteration 12/20 - Best Accuracy: 0.9600\n",
            "Iteration 13/20 - Best Accuracy: 0.9600\n",
            "Iteration 14/20 - Best Accuracy: 0.9600\n",
            "Iteration 15/20 - Best Accuracy: 0.9600\n",
            "Iteration 16/20 - Best Accuracy: 0.9600\n",
            "Iteration 17/20 - Best Accuracy: 0.9600\n",
            "Iteration 18/20 - Best Accuracy: 0.9600\n",
            "Iteration 19/20 - Best Accuracy: 0.9600\n",
            "Iteration 20/20 - Best Accuracy: 0.9600\n",
            "\n",
            "✅ Final Best Accuracy: 0.9600\n",
            "📌 Selected Features:\n",
            "['id', 'dpkts', 'dbytes', 'rate', 'sttl', 'dttl', 'sload', 'dload', 'sloss', 'sinpkt', 'dinpkt', 'dtcpb', 'tcprtt', 'synack', 'smean', 'ct_dst_src_ltm', 'ct_ftp_cmd', 'ct_flw_http_mthd', 'ct_srv_dst', 'service_dns', 'service_ftp-data', 'service_snmp', 'state_ECO', 'state_INT', 'state_PAR', 'state_URN']\n"
          ]
        }
      ],
      "source": [
        "selected_bits, best_acc = QMGOA_DE(X_scaled, y, n_agents=20, n_iter=20, k=3)\n",
        "selected_features = feature_names[selected_bits == 1]\n",
        "print(f\"\\n✅ Final Best Accuracy: {best_acc:.4f}\")\n",
        "print(\"📌 Selected Features:\")\n",
        "print(list(selected_features))"
      ]
    },
    {
      "cell_type": "code",
      "execution_count": null,
      "metadata": {
        "colab": {
          "base_uri": "https://localhost:8080/"
        },
        "id": "qRoeS6iOiyMY",
        "outputId": "bd9eab06-4784-4b51-e5a8-c3d5f5e19acb"
      },
      "outputs": [
        {
          "data": {
            "text/plain": [
              "26"
            ]
          },
          "execution_count": 13,
          "metadata": {},
          "output_type": "execute_result"
        }
      ],
      "source": [
        "selected_features.size"
      ]
    },
    {
      "cell_type": "markdown",
      "metadata": {
        "id": "096pCXu6kXq6"
      },
      "source": [
        "✅ Final Best Accuracy: 0.9600\n",
        "\n",
        "📌 Selected Features:\n",
        "\n",
        "['id', 'dpkts', 'dbytes', 'rate', 'sttl', 'dttl', 'sload', 'dload', 'sloss', 'sinpkt', 'dinpkt', 'dtcpb', 'tcprtt', 'synack', 'smean', 'ct_dst_src_ltm', 'ct_ftp_cmd', 'ct_flw_http_mthd', 'ct_srv_dst', 'service_dns', 'service_ftp-data', 'service_snmp', 'state_ECO', 'state_INT', 'state_PAR', 'state_URN']"
      ]
    }
  ],
  "metadata": {
    "accelerator": "TPU",
    "colab": {
      "gpuType": "V28",
      "provenance": []
    },
    "kernelspec": {
      "display_name": "Python 3",
      "name": "python3"
    },
    "language_info": {
      "name": "python"
    }
  },
  "nbformat": 4,
  "nbformat_minor": 0
}
